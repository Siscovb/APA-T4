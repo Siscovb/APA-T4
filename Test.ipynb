{
 "cells": [
  {
   "cell_type": "code",
   "execution_count": 10,
   "metadata": {},
   "outputs": [],
   "source": [
    "class Aleat:\n",
    "    def __init__(self, *, m = 2**48, a = 25214903917, c = 11, x0 = 1212121):\n",
    "        self.m = m\n",
    "        self.a = a\n",
    "        self.c = c\n",
    "        self.x_n = x0\n",
    "        return None\n",
    "    \n",
    "    def __iter__(self):\n",
    "        return self\n",
    "    \n",
    "    def __next__(self):\n",
    "        self.x_n = (self.a * self.x_n + self.c) % self.m\n",
    "        return self.x_n #self.get_rand_num()\n",
    "    \n",
    "    def __call__(self, seed):\n",
    "        if seed != None: self.x_n = seed\n",
    "            \n",
    "    #def get_rand_num(self):\n",
    "    #    return self.x_n / self.m"
   ]
  },
  {
   "cell_type": "code",
   "execution_count": 11,
   "metadata": {},
   "outputs": [
    {
     "name": "stdout",
     "output_type": "stream",
     "text": [
      "16\n",
      "29\n",
      "18\n",
      "15\n"
     ]
    }
   ],
   "source": [
    "rand = Aleat(m=32, a=9, c=13, x0=11)\n",
    "for _ in range(4):\n",
    "    print(next(rand))"
   ]
  },
  {
   "cell_type": "code",
   "execution_count": 12,
   "metadata": {},
   "outputs": [
    {
     "name": "stdout",
     "output_type": "stream",
     "text": [
      "18\n",
      "15\n",
      "20\n",
      "1\n"
     ]
    }
   ],
   "source": [
    "rand(29)\n",
    "for _ in range(4):\n",
    "     print(next(rand))"
   ]
  },
  {
   "cell_type": "code",
   "execution_count": 29,
   "metadata": {},
   "outputs": [],
   "source": [
    "def aleat(*, m = 2**48, a = 25214903917, c = 11, x0 = 1212121):\n",
    "    x_n = x0\n",
    "    while True:\n",
    "        x_n = (a * x_n + c) % m\n",
    "        seed = yield x_n\n",
    "        if seed is not None:\n",
    "            x_n = seed"
   ]
  },
  {
   "cell_type": "code",
   "execution_count": 30,
   "metadata": {},
   "outputs": [
    {
     "name": "stdout",
     "output_type": "stream",
     "text": [
      "34\n",
      "24\n",
      "38\n",
      "44\n"
     ]
    }
   ],
   "source": [
    "rand = aleat(m=64, a=5, c=46, x0=36)\n",
    "for _ in range(4):\n",
    "    print(next(rand))"
   ]
  },
  {
   "cell_type": "code",
   "execution_count": 31,
   "metadata": {},
   "outputs": [
    {
     "data": {
      "text/plain": [
       "38"
      ]
     },
     "execution_count": 31,
     "metadata": {},
     "output_type": "execute_result"
    }
   ],
   "source": [
    "rand.send(24)"
   ]
  },
  {
   "cell_type": "code",
   "execution_count": 32,
   "metadata": {},
   "outputs": [
    {
     "name": "stdout",
     "output_type": "stream",
     "text": [
      "44\n",
      "10\n",
      "32\n",
      "14\n"
     ]
    }
   ],
   "source": [
    "for _ in range(4):\n",
    "    print(next(rand))"
   ]
  }
 ],
 "metadata": {
  "kernelspec": {
   "display_name": "Python 3",
   "language": "python",
   "name": "python3"
  },
  "language_info": {
   "codemirror_mode": {
    "name": "ipython",
    "version": 3
   },
   "file_extension": ".py",
   "mimetype": "text/x-python",
   "name": "python",
   "nbconvert_exporter": "python",
   "pygments_lexer": "ipython3",
   "version": "3.11.2"
  },
  "orig_nbformat": 4,
  "vscode": {
   "interpreter": {
    "hash": "3f8583aee1a0d881e2b92a791f4bb85cbe6507dcbaa160f9f2959c22c46897e4"
   }
  }
 },
 "nbformat": 4,
 "nbformat_minor": 2
}
